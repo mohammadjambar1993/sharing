{
 "cells": [
  {
   "cell_type": "markdown",
   "id": "ae223929-8a27-498e-b4ed-337c410235aa",
   "metadata": {},
   "source": [
    "hw = In this notebook, Data Science Tools and Ecosystem are summarized.\n"
   ]
  },
  {
   "cell_type": "markdown",
   "id": "00f993fb-4a89-4563-b669-93e78b44c1dd",
   "metadata": {},
   "source": [
    "python\n",
    "R\n",
    "Java Script\n",
    "Java\n",
    "C\n",
    "C++\n",
    "html\n",
    "CSS\n",
    "Scala\n",
    "PHP\n"
   ]
  },
  {
   "cell_type": "markdown",
   "id": "1c72839b-bbb2-40de-8430-a29664ad4259",
   "metadata": {},
   "source": [
    "python\n",
    "R\n",
    "Java Script\n",
    "Java\n",
    "C\n",
    "C++\n",
    "html\n",
    "CSS\n",
    "Scala\n",
    "PHP\n"
   ]
  },
  {
   "cell_type": "code",
   "execution_count": null,
   "id": "218fd218-6be7-4580-919f-20a373d9959a",
   "metadata": {},
   "outputs": [],
   "source": [
    "Apache Spark\n",
    "D3.js\n",
    "IBM SPSS\n",
    "Julia\n",
    "Jupyter Notebook\n",
    "Keras\n",
    "Matlab\n",
    "Anaconda\n",
    "Spyder\n",
    "vs code\n",
    "Matplotlib\n",
    "NumPy\n",
    "Pandas"
   ]
  },
  {
   "cell_type": "code",
   "execution_count": 3,
   "id": "f4860521-171d-4422-8772-45858030505c",
   "metadata": {},
   "outputs": [
    {
     "name": "stdout",
     "output_type": "stream",
     "text": [
      "7\n"
     ]
    }
   ],
   "source": [
    "3\n",
    "4\n",
    "print(3+4)\n",
    "      "
   ]
  },
  {
   "cell_type": "code",
   "execution_count": 5,
   "id": "d26350e1-d1b7-492d-9f8e-64a7f642713d",
   "metadata": {},
   "outputs": [
    {
     "name": "stdout",
     "output_type": "stream",
     "text": [
      "150.0\n"
     ]
    }
   ],
   "source": [
    "a=100\n",
    "b=200\n",
    "c=a+b\n",
    "print(c/2)"
   ]
  },
  {
   "cell_type": "code",
   "execution_count": 6,
   "id": "0cd33955-5afb-4bbe-bbc4-90b59780c65f",
   "metadata": {},
   "outputs": [
    {
     "name": "stdout",
     "output_type": "stream",
     "text": [
      "75.0\n"
     ]
    }
   ],
   "source": [
    "a=50\n",
    "b=75\n",
    "c=(a*b)/a\n",
    "print(c)"
   ]
  },
  {
   "cell_type": "code",
   "execution_count": 7,
   "id": "f4d6e1d6-300f-476e-946b-9259ac94ff26",
   "metadata": {},
   "outputs": [
    {
     "name": "stdout",
     "output_type": "stream",
     "text": [
      "106.3\n"
     ]
    }
   ],
   "source": [
    "a=30\n",
    "b=60\n",
    "c=75\n",
    "d=a+b/c+a/b+c\n",
    "print(d)"
   ]
  },
  {
   "cell_type": "code",
   "execution_count": 9,
   "id": "be13bbd7-e676-4b7e-9e8f-ba733103e6e9",
   "metadata": {},
   "outputs": [
    {
     "name": "stdin",
     "output_type": "stream",
     "text": [
      "Enter time in minutes 80\n"
     ]
    },
    {
     "name": "stdout",
     "output_type": "stream",
     "text": [
      "Hours= 1\n",
      "Minutes= 20\n"
     ]
    }
   ],
   "source": [
    "min=int(input(\"Enter time in minutes\"))\n",
    "h=min//60\n",
    "m=min%60\n",
    "print(\"Hours=\",h)\n",
    "print(\"Minutes=\",m)"
   ]
  },
  {
   "cell_type": "markdown",
   "id": "1577d18b-0895-44c1-879f-fda3215e8104",
   "metadata": {},
   "source": [
    "(Header 1, Programming)\n",
    "(Header 2, NoteBook Jupiter)\n",
    "(Header 3, Python)\n",
    "(Header 4)\n",
    "(Header 5)\n",
    "(Header 6)"
   ]
  },
  {
   "cell_type": "code",
   "execution_count": 10,
   "id": "fc3fe827-489e-41ab-819a-8de03e35ab9c",
   "metadata": {},
   "outputs": [],
   "source": [
    "#Author’s name : Mohammad Jambar"
   ]
  },
  {
   "cell_type": "code",
   "execution_count": null,
   "id": "707b589d-5828-4b4a-94e3-13edf4c0f8c9",
   "metadata": {},
   "outputs": [],
   "source": []
  }
 ],
 "metadata": {
  "kernelspec": {
   "display_name": "Python 3 (ipykernel)",
   "language": "python",
   "name": "python3"
  },
  "language_info": {
   "codemirror_mode": {
    "name": "ipython",
    "version": 3
   },
   "file_extension": ".py",
   "mimetype": "text/x-python",
   "name": "python",
   "nbconvert_exporter": "python",
   "pygments_lexer": "ipython3",
   "version": "3.11.7"
  }
 },
 "nbformat": 4,
 "nbformat_minor": 5
}
